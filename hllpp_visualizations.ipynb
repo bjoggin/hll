{
 "cells": [
  {
   "cell_type": "code",
   "execution_count": null,
   "id": "6c80de21",
   "metadata": {},
   "outputs": [],
   "source": [
    "import random\n",
    "import string\n",
    "from hllpp import *"
   ]
  },
  {
   "cell_type": "code",
   "execution_count": 19,
   "id": "41ec2b26",
   "metadata": {},
   "outputs": [],
   "source": [
    "def generate_fake_patient_ids(n, range_start, range_end):\n",
    "    return random.sample(range(range_start, range_end), n)\n",
    "\n",
    "def generate_random_string(length=10):\n",
    "    # Choose from lowercase letters and digits\n",
    "    return ''.join(random.choices(string.ascii_lowercase + string.digits, k=length))"
   ]
  },
  {
   "cell_type": "code",
   "execution_count": 20,
   "id": "783580da",
   "metadata": {},
   "outputs": [],
   "source": [
    "patients_per_hospital = 10\n",
    "n_hospitals = 2"
   ]
  },
  {
   "cell_type": "code",
   "execution_count": 21,
   "id": "4937f39e",
   "metadata": {},
   "outputs": [],
   "source": [
    "hllpps = []\n",
    "for _ in range(n_hospitals):\n",
    "    # patients = generate_fake_patient_ids(patients_per_hospital, 0, 10000)\n",
    "    hllpp = HyperLogLogPlusPlus()\n",
    "    for p in range(patients_per_hospital):\n",
    "        patient_id = generate_random_string(10)\n",
    "        print(patient_id)\n",
    "        hllpp.add(patient_id)\n",
    "    hllpps.append(hllpp)"
   ]
  },
  {
   "cell_type": "code",
   "execution_count": 24,
   "id": "bdd8781e",
   "metadata": {},
   "outputs": [
    {
     "data": {
      "text/plain": [
       "{8041118489769145235162381686892806504781355932215573380924151793539480991657,\n",
       " 10310130465675316910318894599081726903148560002436263929887426303245939885873,\n",
       " 33186286171190315655649837760623472742862461604846748905229022492740539095594,\n",
       " 37248204379649276351492673350000004553441437840701014681180441688505151831458,\n",
       " 39288313737891045306474306811690741745064121512077237144084661164985337062142,\n",
       " 52310982117032747455440599459841459358986064468371961129960579950330163639026,\n",
       " 61843855364639744775742575045893012251172243814026423141999016244652913363272,\n",
       " 83356061579690360814251548489010197456400442796587491961836841486238107635686,\n",
       " 84434560279143313730445501140961635231111110782991477563831169685531108623729,\n",
       " 108522190977069864357254865712724684240252092495865163464585840445265065428628}"
      ]
     },
     "execution_count": 24,
     "metadata": {},
     "output_type": "execute_result"
    }
   ],
   "source": [
    "hllpps[0].sparse_list"
   ]
  }
 ],
 "metadata": {
  "kernelspec": {
   "display_name": "myenvironment",
   "language": "python",
   "name": "python3"
  },
  "language_info": {
   "codemirror_mode": {
    "name": "ipython",
    "version": 3
   },
   "file_extension": ".py",
   "mimetype": "text/x-python",
   "name": "python",
   "nbconvert_exporter": "python",
   "pygments_lexer": "ipython3",
   "version": "3.12.1"
  }
 },
 "nbformat": 4,
 "nbformat_minor": 5
}
